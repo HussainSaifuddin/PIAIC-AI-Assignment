{
 "cells": [
  {
   "cell_type": "markdown",
   "metadata": {},
   "source": [
    "\n",
    "# Name: HUSSAIN"
   ]
  },
  {
   "cell_type": "markdown",
   "metadata": {},
   "source": [
    "# Father Name: Saifuddin"
   ]
  },
  {
   "cell_type": "markdown",
   "metadata": {},
   "source": [
    "# PIAIC Roll No: AIC010994"
   ]
  },
  {
   "cell_type": "markdown",
   "metadata": {},
   "source": [
    "# Teacher Name: Sir Mohammad Ali And Sir Mohammad Hamza"
   ]
  },
  {
   "cell_type": "markdown",
   "metadata": {},
   "source": [
    "# Institute Name: Saylani Welfare Head Office"
   ]
  },
  {
   "cell_type": "markdown",
   "metadata": {},
   "source": [
    "# Day And Timing: Sunday - 6:45 pm to 9:45 pm"
   ]
  },
  {
   "cell_type": "markdown",
   "metadata": {},
   "source": [
    "# 1. Calculate Area of a Circle"
   ]
  },
  {
   "cell_type": "markdown",
   "metadata": {},
   "source": [
    "#### Write a Python program which accepts the radius of a circle from the user and compute the area.\n",
    "###### Program Console Sample Output 1:\n",
    "###### Input Radius: 0.5\n",
    "###### Area of Circle with radius 0.5 is 0.7853981634"
   ]
  },
  {
   "cell_type": "code",
   "execution_count": 2,
   "metadata": {},
   "outputs": [
    {
     "name": "stdout",
     "output_type": "stream",
     "text": [
      "Input the radius of the circle : 0.5\n",
      "The area of the circle with radius 0.5 is: 0.7853981633974483\n"
     ]
    }
   ],
   "source": [
    "from math import pi\n",
    "r = float(input (\"Input the radius of the circle : \"))\n",
    "print (\"The area of the circle with radius \" + str(r) + \" is: \" + str(pi * r**2))"
   ]
  },
  {
   "cell_type": "code",
   "execution_count": 2,
   "metadata": {},
   "outputs": [
    {
     "name": "stdout",
     "output_type": "stream",
     "text": [
      "Input the radius of the circle : 2\n",
      "The area of the circle with radius 2.0 is: 12.566370614359172\n"
     ]
    }
   ],
   "source": [
    "from math import pi\n",
    "r = float(input (\"Input the radius of the circle : \"))\n",
    "print (\"The area of the circle with radius \" + str(r) + \" is: \" + str(pi * r**2))"
   ]
  },
  {
   "cell_type": "code",
   "execution_count": 3,
   "metadata": {},
   "outputs": [
    {
     "name": "stdout",
     "output_type": "stream",
     "text": [
      "Input the radius of the circle : 2.5\n",
      "The area of the circle with radius 2.5 is: 19.634954084936208\n"
     ]
    }
   ],
   "source": [
    "from math import pi\n",
    "r = float(input (\"Input the radius of the circle : \"))\n",
    "print (\"The area of the circle with radius \" + str(r) + \" is: \" + str(pi * r**2))"
   ]
  },
  {
   "cell_type": "markdown",
   "metadata": {},
   "source": [
    "## 2. Check Number either positive, negative or zero"
   ]
  },
  {
   "cell_type": "markdown",
   "metadata": {},
   "source": [
    "#### Write a Python program to check if a number is positive, negative or zero\n",
    "###### Program Console Sample Output 1:\n",
    "###### Enter Number: -1\n",
    "##### Negative Number Entered\n",
    "###### Program Console Sample Output 2:\n",
    "##### Integer: 3\n",
    "##### Positive Number Entered\n",
    "###### Program Console Sample Output 3:\n",
    "##### Integer: 0\n",
    "###### Zero Entered"
   ]
  },
  {
   "cell_type": "code",
   "execution_count": 5,
   "metadata": {},
   "outputs": [
    {
     "name": "stdout",
     "output_type": "stream",
     "text": [
      "Enter a number: 0\n",
      "Zero\n"
     ]
    }
   ],
   "source": [
    "num = float(input(\"Enter a number: \"))\n",
    "if num >= 0:\n",
    "   if num == 0:\n",
    "       print(\"Zero Entered\")\n",
    "   else:\n",
    "       print(\"Positive number Entered\")\n",
    "else:\n",
    "   print(\"Negative number Entered\")"
   ]
  },
  {
   "cell_type": "code",
   "execution_count": 4,
   "metadata": {},
   "outputs": [
    {
     "name": "stdout",
     "output_type": "stream",
     "text": [
      "Enter a number: 1\n",
      "Positive number Entered\n"
     ]
    }
   ],
   "source": [
    "num = float(input(\"Enter a number: \"))\n",
    "if num >= 0:\n",
    "   if num == 0:\n",
    "       print(\"Zero Entered\")\n",
    "   else:\n",
    "       print(\"Positive number Entered\")\n",
    "else:\n",
    "   print(\"Negative number Entered\")"
   ]
  },
  {
   "cell_type": "code",
   "execution_count": 5,
   "metadata": {},
   "outputs": [
    {
     "name": "stdout",
     "output_type": "stream",
     "text": [
      "Enter a number: -2\n",
      "Negative number Entered\n"
     ]
    }
   ],
   "source": [
    "num = float(input(\"Enter a number: \"))\n",
    "if num >= 0:\n",
    "   if num == 0:\n",
    "       print(\"Zero Entered\")\n",
    "   else:\n",
    "       print(\"Positive number Entered\")\n",
    "else:\n",
    "   print(\"Negative number Entered\")"
   ]
  },
  {
   "cell_type": "markdown",
   "metadata": {},
   "source": [
    "## 3. Divisibility Check of two numbers"
   ]
  },
  {
   "cell_type": "markdown",
   "metadata": {},
   "source": [
    "#### Write a Python program to check whether a number is completely divisible by another number. Accept two integer values form the user\n",
    "##### Program Console Sample Output 1:\n",
    "###### Enter numerator: 4\n",
    "###### Enter Denominator: 2\n",
    "##### Number 4 is Completely divisible by 2\n",
    "###### Program Console Sample Output 2:\n",
    "##### Enter numerator: 7\n",
    "\n",
    "##### Enter Denominator: 4\n",
    "###### Number 7 is not Completely divisible by 4"
   ]
  },
  {
   "cell_type": "code",
   "execution_count": 13,
   "metadata": {},
   "outputs": [
    {
     "name": "stdout",
     "output_type": "stream",
     "text": [
      "Enter Numerator: 34\n",
      "Enter Denominator: 2\n",
      "Number 34 is Completely  divisible by 2.\n"
     ]
    }
   ],
   "source": [
    "a = int(input(\"Enter Numerator: \"))\n",
    "b = int(input(\"Enter Denominator: \"))\n",
    "if a%b == 0:\n",
    "        print(\"Number \" + str(a) + \" is Completely  divisible by \" + str(b) + \".\")\n",
    "        \n",
    "else:\n",
    "        print(\"Number \" + str(a) + \" is not Completely  divisible by \" +  str(b) + \".\")\n",
    "        \n",
    "        "
   ]
  },
  {
   "cell_type": "code",
   "execution_count": 6,
   "metadata": {},
   "outputs": [
    {
     "name": "stdout",
     "output_type": "stream",
     "text": [
      "Enter Numerator: 23\n",
      "Enter Denominator: 43\n",
      "Number 23 is not Completely  divisible by 43.\n"
     ]
    }
   ],
   "source": [
    "a = int(input(\"Enter Numerator: \"))\n",
    "b = int(input(\"Enter Denominator: \"))\n",
    "if a%b == 0:\n",
    "        print(\"Number \" + str(a) + \" is Completely  divisible by \" + str(b) + \".\")\n",
    "        \n",
    "else:\n",
    "        print(\"Number \" + str(a) + \" is not Completely  divisible by \" +  str(b) + \".\")"
   ]
  },
  {
   "cell_type": "markdown",
   "metadata": {},
   "source": [
    "## 4. Calculate Volume of a sphere"
   ]
  },
  {
   "cell_type": "markdown",
   "metadata": {},
   "source": [
    "##### Write a Python program to get the volume of a sphere, please take the radius as input from user"
   ]
  },
  {
   "cell_type": "markdown",
   "metadata": {},
   "source": [
    "##### Program Console Output:\n",
    "##### Enter Radius of Sphere: 1\n",
    "###### Volume of the Sphere with Radius 1 is 4.18"
   ]
  },
  {
   "cell_type": "code",
   "execution_count": 21,
   "metadata": {},
   "outputs": [
    {
     "name": "stdout",
     "output_type": "stream",
     "text": [
      "Enter Radius of sphere: 1\n",
      "Volume of the Sphere with Radius 1.0 is 4.19047619047619\n"
     ]
    }
   ],
   "source": [
    "pi=22/7\n",
    "radius = float(input('Enter Radius of sphere: '))\n",
    "volume = (4/3) * (pi * radius ** 3)\n",
    "print(\"Volume of the Sphere with Radius \" + str(radius) + \" is \" + str(volume))\n"
   ]
  },
  {
   "cell_type": "code",
   "execution_count": 7,
   "metadata": {},
   "outputs": [
    {
     "name": "stdout",
     "output_type": "stream",
     "text": [
      "Enter Radius of sphere: 2\n",
      "Volume of the Sphere with Radius 2.0 is 33.52380952380952\n"
     ]
    }
   ],
   "source": [
    "pi=22/7\n",
    "radius = float(input('Enter Radius of sphere: '))\n",
    "volume = (4/3) * (pi * radius ** 3)\n",
    "print(\"Volume of the Sphere with Radius \" + str(radius) + \" is \" + str(volume))"
   ]
  },
  {
   "cell_type": "code",
   "execution_count": 8,
   "metadata": {},
   "outputs": [
    {
     "name": "stdout",
     "output_type": "stream",
     "text": [
      "Enter Radius of sphere: 3\n",
      "Volume of the Sphere with Radius 3.0 is 113.14285714285714\n"
     ]
    }
   ],
   "source": [
    "pi=22/7\n",
    "radius = float(input('Enter Radius of sphere: '))\n",
    "volume = (4/3) * (pi * radius ** 3)\n",
    "print(\"Volume of the Sphere with Radius \" + str(radius) + \" is \" + str(volume))\n"
   ]
  },
  {
   "cell_type": "code",
   "execution_count": 9,
   "metadata": {},
   "outputs": [
    {
     "name": "stdout",
     "output_type": "stream",
     "text": [
      "Enter Radius of sphere: 4\n",
      "Volume of the Sphere with Radius 4.0 is 268.19047619047615\n"
     ]
    }
   ],
   "source": [
    "pi=22/7\n",
    "radius = float(input('Enter Radius of sphere: '))\n",
    "volume = (4/3) * (pi * radius ** 3)\n",
    "print(\"Volume of the Sphere with Radius \" + str(radius) + \" is \" + str(volume))\n"
   ]
  },
  {
   "cell_type": "code",
   "execution_count": 10,
   "metadata": {},
   "outputs": [
    {
     "name": "stdout",
     "output_type": "stream",
     "text": [
      "Enter Radius of sphere: 5\n",
      "Volume of the Sphere with Radius 5.0 is 523.8095238095237\n"
     ]
    }
   ],
   "source": [
    "pi=22/7\n",
    "radius = float(input('Enter Radius of sphere: '))\n",
    "volume = (4/3) * (pi * radius ** 3)\n",
    "print(\"Volume of the Sphere with Radius \" + str(radius) + \" is \" + str(volume))\n"
   ]
  },
  {
   "cell_type": "markdown",
   "metadata": {},
   "source": [
    "## 5. Copy string n times\n",
    "#### Write a Python program to get a string which is n (non-negative integer) copies of a given string.\n",
    "##### Program Console Output:\n",
    "##### Enter String: Hi\n",
    "###### How many copies of String you need: 4\n",
    "###### 4 Copies of Hi are HiHiHiHi"
   ]
  },
  {
   "cell_type": "code",
   "execution_count": 1,
   "metadata": {},
   "outputs": [
    {
     "name": "stdout",
     "output_type": "stream",
     "text": [
      "Enter string: hi\n",
      "How many copies of sting you need: 2\n",
      "2 copies of hi are hihi.\n"
     ]
    }
   ],
   "source": [
    "string = input(\"Enter string: \")\n",
    "copies = int(input(\"How many copies of sting you need: \"))\n",
    "result = string * copies\n",
    "print(str(copies)+\" copies of \"+string+\" are \"+result+\".\")"
   ]
  },
  {
   "cell_type": "code",
   "execution_count": 11,
   "metadata": {},
   "outputs": [
    {
     "name": "stdout",
     "output_type": "stream",
     "text": [
      "Enter string: Hello\n",
      "How many copies of sting you need: 4\n",
      "4 copies of Hello are HelloHelloHelloHello.\n"
     ]
    }
   ],
   "source": [
    "string = input(\"Enter string: \")\n",
    "copies = int(input(\"How many copies of sting you need: \"))\n",
    "result = string * copies\n",
    "print(str(copies)+\" copies of \"+string+\" are \"+result+\".\")"
   ]
  },
  {
   "cell_type": "code",
   "execution_count": 12,
   "metadata": {},
   "outputs": [
    {
     "name": "stdout",
     "output_type": "stream",
     "text": [
      "Enter string: Hello World\n",
      "How many copies of sting you need: 5\n",
      "5 copies of Hello World are Hello WorldHello WorldHello WorldHello WorldHello World.\n"
     ]
    }
   ],
   "source": [
    "string = input(\"Enter string: \")\n",
    "copies = int(input(\"How many copies of sting you need: \"))\n",
    "result = string * copies\n",
    "print(str(copies)+\" copies of \"+string+\" are \"+result+\".\")"
   ]
  },
  {
   "cell_type": "markdown",
   "metadata": {},
   "source": [
    "## 6. Check if number is Even or Odd\n",
    "### Write a Python program to find whether a given number (accept from the user) is even or odd, print out an appropriate message to the user\n",
    "#### Program Console Output 1:\n",
    "##### Enter Number: 4\n",
    "###### 4 is Even\n",
    "#### Program Console Output 2:\n",
    "##### Enter Number: 9\n",
    "###### 9 is Odd"
   ]
  },
  {
   "cell_type": "code",
   "execution_count": 16,
   "metadata": {},
   "outputs": [
    {
     "name": "stdout",
     "output_type": "stream",
     "text": [
      "Enter Number: 23\n",
      "23 is Odd\n"
     ]
    }
   ],
   "source": [
    "a = int(input(\"Enter Number: \"))\n",
    "\n",
    "if a%2 == 0:\n",
    "        print(str(a) + \" is Even\")\n",
    "        \n",
    "else:\n",
    "        print(str(a) + \" is Odd\")"
   ]
  },
  {
   "cell_type": "code",
   "execution_count": 13,
   "metadata": {},
   "outputs": [
    {
     "name": "stdout",
     "output_type": "stream",
     "text": [
      "Enter Number: 22\n",
      "22 is Even\n"
     ]
    }
   ],
   "source": [
    "a = int(input(\"Enter Number: \"))\n",
    "\n",
    "if a%2 == 0:\n",
    "        print(str(a) + \" is Even\")\n",
    "        \n",
    "else:\n",
    "        print(str(a) + \" is Odd\")"
   ]
  },
  {
   "cell_type": "markdown",
   "metadata": {},
   "source": [
    "## 7. Vowel Tester\n",
    "### Write a Python program to test whether a passed letter is a vowel or not\n",
    "#### Program Console Output 1:\n",
    "##### Enter a character: A\n",
    "###### Letter A is Vowel\n",
    "#### Program Console Output 2:\n",
    "##### Enter a character: e\n",
    "###### Letter e is Vowel\n",
    "#### Program Console Output 2:\n",
    "##### Enter a character: N\n",
    "###### Letter N is not Vowel"
   ]
  },
  {
   "cell_type": "code",
   "execution_count": 3,
   "metadata": {},
   "outputs": [
    {
     "name": "stdout",
     "output_type": "stream",
     "text": [
      "Enter a letter: A\n",
      "Letter A is a vowel.\n"
     ]
    }
   ],
   "source": [
    "user_input = input(\"Enter a letter: \")\n",
    "if(user_input == \"A\" or user_input == \"E\"\n",
    "   or \n",
    "   user_input == \"I\" or user_input == \"O\"\n",
    "   or\n",
    "   user_input == \"U\" or user_input == \"a\"\n",
    "   or\n",
    "   user_input == \"e\" or user_input == \"i\"\n",
    "   or\n",
    "   user_input == \"o\" or user_input == \"u\"):\n",
    "    print(\"Letter \"+user_input+\" is a vowel.\")\n",
    "else:\n",
    "    print(\"Letter \"+user_input+\" is not a vowel.\")"
   ]
  },
  {
   "cell_type": "code",
   "execution_count": 4,
   "metadata": {},
   "outputs": [
    {
     "name": "stdout",
     "output_type": "stream",
     "text": [
      "Enter a letter: e\n",
      "Letter e is a vowel.\n"
     ]
    }
   ],
   "source": [
    "user_input = input(\"Enter a letter: \")\n",
    "if(user_input == \"A\" or user_input == \"E\"\n",
    "   or \n",
    "   user_input == \"I\" or user_input == \"O\"\n",
    "   or\n",
    "   user_input == \"U\" or user_input == \"a\"\n",
    "   or\n",
    "   user_input == \"e\" or user_input == \"i\"\n",
    "   or\n",
    "   user_input == \"o\" or user_input == \"u\"):\n",
    "    print(\"Letter \"+user_input+\" is a vowel.\")\n",
    "else:\n",
    "    print(\"Letter \"+user_input+\" is not a vowel.\")"
   ]
  },
  {
   "cell_type": "code",
   "execution_count": 5,
   "metadata": {},
   "outputs": [
    {
     "name": "stdout",
     "output_type": "stream",
     "text": [
      "Enter a letter: N\n",
      "Letter N is not a vowel.\n"
     ]
    }
   ],
   "source": [
    "user_input = input(\"Enter a letter: \")\n",
    "if(user_input == \"A\" or user_input == \"E\"\n",
    "   or \n",
    "   user_input == \"I\" or user_input == \"O\"\n",
    "   or\n",
    "   user_input == \"U\" or user_input == \"a\"\n",
    "   or\n",
    "   user_input == \"e\" or user_input == \"i\"\n",
    "   or\n",
    "   user_input == \"o\" or user_input == \"u\"):\n",
    "    print(\"Letter \"+user_input+\" is a vowel.\")\n",
    "else:\n",
    "    print(\"Letter \"+user_input+\" is not a vowel.\")"
   ]
  },
  {
   "cell_type": "markdown",
   "metadata": {},
   "source": [
    "## 8. Triangle area\n",
    "### Write a Python program that will accept the base and height of a triangle and compute the area\n",
    "###### Reference:\n",
    "https://www.mathgoodies.com/lessons/vol1/area_triangle"
   ]
  },
  {
   "cell_type": "code",
   "execution_count": 7,
   "metadata": {},
   "outputs": [
    {
     "name": "stdout",
     "output_type": "stream",
     "text": [
      "Enter Base of Triangle : 4\n",
      "Enter Hypotenuse of Triangle : 6\n",
      "Area of triangle is: 12.0\n"
     ]
    }
   ],
   "source": [
    "base = float(input(\"Enter Base of Triangle : \"))\n",
    "hyp = float(input(\"Enter Hypotenuse of Triangle : \"))\n",
    "area = 0.5 * base * hyp\n",
    "print(\"Area of triangle is: \"+str(area))"
   ]
  },
  {
   "cell_type": "code",
   "execution_count": 9,
   "metadata": {},
   "outputs": [
    {
     "name": "stdout",
     "output_type": "stream",
     "text": [
      "Enter Base of Triangle : 23\n",
      "Enter Hypotenuse of Triangle : 4\n",
      "Area of triangle is: 46.0\n"
     ]
    }
   ],
   "source": [
    "base = float(input(\"Enter Base of Triangle : \"))\n",
    "hyp = float(input(\"Enter Hypotenuse of Triangle : \"))\n",
    "area = 0.5 * base * hyp\n",
    "print(\"Area of triangle is: \"+str(area))"
   ]
  },
  {
   "cell_type": "code",
   "execution_count": 10,
   "metadata": {},
   "outputs": [
    {
     "name": "stdout",
     "output_type": "stream",
     "text": [
      "Enter Base of Triangle : 43\n",
      "Enter Hypotenuse of Triangle : 12\n",
      "Area of triangle is: 258.0\n"
     ]
    }
   ],
   "source": [
    "base = float(input(\"Enter Base of Triangle : \"))\n",
    "hyp = float(input(\"Enter Hypotenuse of Triangle : \"))\n",
    "area = 0.5 * base * hyp\n",
    "print(\"Area of triangle is: \"+str(area))"
   ]
  },
  {
   "cell_type": "code",
   "execution_count": 11,
   "metadata": {},
   "outputs": [
    {
     "name": "stdout",
     "output_type": "stream",
     "text": [
      "Enter Base of Triangle : 12\n",
      "Enter Hypotenuse of Triangle : 65\n",
      "Area of triangle is: 390.0\n"
     ]
    }
   ],
   "source": [
    "base = float(input(\"Enter Base of Triangle : \"))\n",
    "hyp = float(input(\"Enter Hypotenuse of Triangle : \"))\n",
    "area = 0.5 * base * hyp\n",
    "print(\"Area of triangle is: \"+str(area))"
   ]
  },
  {
   "cell_type": "markdown",
   "metadata": {},
   "source": [
    "## 9. Calculate Interest\n",
    "### Write a Python program to compute the future value of a specified principal amount, rate of interest, and a number of years\n",
    "#### Program Console Sample 1:\n",
    "##### Please enter principal amount: 10000\n",
    "###### Please Enter Rate of interest in %: 0.1\n",
    "###### Enter number of years for investment: 5\n",
    "###### After 5 years your principal amount 10000 over an interest rate of 0.1 % will be 16105.1"
   ]
  },
  {
   "cell_type": "code",
   "execution_count": 3,
   "metadata": {},
   "outputs": [
    {
     "name": "stdout",
     "output_type": "stream",
     "text": [
      "Please enter principal amount : 10000\n",
      "Please enter Rate of interest in % : 0.1\n",
      "Enter number of years for investment : 5\n",
      "After 5 years your principal amount 10000.0 over an interest rate of 0.1  will be 16105.100000000006.\n"
     ]
    }
   ],
   "source": [
    "amount = float(input(\"Please enter principal amount : \"))\n",
    "rate = float(input(\"Please enter Rate of interest in % : \"))\n",
    "year = int(input(\"Enter number of years for investment : \"))\n",
    "\n",
    "interest =  amount * ( 1 + rate )** year\n",
    "\n",
    "print(\"After \"+str(year)+\" years your principal amount \"+str(amount)+\" over an interest rate of \"+str(rate)+\"  will be \"+str(interest)+\".\")"
   ]
  },
  {
   "cell_type": "markdown",
   "metadata": {},
   "source": [
    "## 10. Euclidean distance\n",
    "### write a Python program to compute the distance between the points (x1, y1) and (x2, y2).\n",
    "#### Program Console Sample 1:\n",
    "###### Enter Co-ordinate for x1: 2\n",
    "###### Enter Co-ordinate for x2: 4\n",
    "###### Enter Co-ordinate for y1: 4\n",
    "###### Enter Co-ordinate for y2: 4\n",
    "###### Distance between points (2, 4) and (4, 4) is 2"
   ]
  },
  {
   "cell_type": "markdown",
   "metadata": {},
   "source": [
    "###### Reference:\n",
    "https://en.wikipedia.org/wiki/Euclidean_distance"
   ]
  },
  {
   "cell_type": "code",
   "execution_count": 5,
   "metadata": {},
   "outputs": [
    {
     "name": "stdout",
     "output_type": "stream",
     "text": [
      "Enter Co-ordinate for x1 : 2\n",
      "Enter Co-ordinate for x2 : 4\n",
      "Enter Co-ordinate for y1 : 4\n",
      "Enter Co-ordinate for y2 : 4\n",
      "Distance between points (2,4) and (4,4) is 2 \n"
     ]
    }
   ],
   "source": [
    "import math\n",
    "x1 = int(input(\"Enter Co-ordinate for x1 : \"))\n",
    "x2 = int(input(\"Enter Co-ordinate for x2 : \"))\n",
    "y1 = int(input(\"Enter Co-ordinate for y1 : \"))\n",
    "y2 = int(input(\"Enter Co-ordinate for y2 : \"))\n",
    "\n",
    "dist = ( (x2 - x1)**2 ) + ( (y2 - y1)**2 )\n",
    "dist = math.sqrt(dist)\n",
    "\n",
    "print(\"Distance between points (%d,%d) and (%d,%d) is %d \" %(x1,y1,x2,y2,dist))"
   ]
  },
  {
   "cell_type": "markdown",
   "metadata": {},
   "source": [
    "## 11. Feet to Centimeter Converter\n",
    "### Write a Python program to convert height in feet to centimetres.\n",
    "##### Program Console Sample 1:\n",
    "###### Enter Height in Feet: 5\n",
    "###### There are 152.4 Cm in 5 ft\n",
    "###### Reference:\n",
    "https://www.rapidtables.com/convert/length/feet-to-cm.html"
   ]
  },
  {
   "cell_type": "code",
   "execution_count": 11,
   "metadata": {},
   "outputs": [
    {
     "name": "stdout",
     "output_type": "stream",
     "text": [
      "Enter Height in Feet : 5.9\n",
      "There are 179.83200000000002 Cm in 5.9 ft.\n"
     ]
    }
   ],
   "source": [
    "feet = float(input(\"Enter Height in Feet : \"))\n",
    "cent = feet * 30.48\n",
    "print(\"There are \"+str(cent)+\" Cm in \"+str(feet)+\" ft.\")"
   ]
  },
  {
   "cell_type": "markdown",
   "metadata": {},
   "source": [
    "## 12. BMI Calculator\n",
    "### Write a Python program to calculate body mass index\n",
    "##### Program Console Sample 1:\n",
    "###### Enter Height in Cm: 180\n",
    "###### Enter Weight in Kg: 75\n",
    "###### Your BMI is 23.15"
   ]
  },
  {
   "cell_type": "code",
   "execution_count": 9,
   "metadata": {},
   "outputs": [
    {
     "name": "stdout",
     "output_type": "stream",
     "text": [
      "Enter Height in Cm : 179.83\n",
      "Enter Weight in Kg : 70\n",
      "Your BMI is 21.645805485553616.\n"
     ]
    }
   ],
   "source": [
    "height = float(input(\"Enter Height in Cm : \"))\n",
    "weight = float(input(\"Enter Weight in Kg : \"))\n",
    "height /= 100\n",
    "\n",
    "bmi = weight / (height)**2\n",
    "print(\"Your BMI is \"+str(bmi)+\".\")"
   ]
  },
  {
   "cell_type": "markdown",
   "metadata": {},
   "source": [
    "## 13. Sum of n Positive Integers\n",
    "### Write a python program to sum of the first n positive integers\n",
    "#### Program Console Sample 1:\n",
    "###### Enter value of n: 5\n",
    "###### Sum of n Positive integers till 5 is 15"
   ]
  },
  {
   "cell_type": "code",
   "execution_count": 12,
   "metadata": {},
   "outputs": [
    {
     "name": "stdout",
     "output_type": "stream",
     "text": [
      "Enter value of n : 5\n",
      "Sum of n positive integers till 5 is 15.0.\n"
     ]
    }
   ],
   "source": [
    "n = int(input(\"Enter value of n : \"))\n",
    "sum_of_n = (n * (n + 1)) /2\n",
    "print(\"Sum of n positive integers till \"+str(n)+\" is \"+str(sum_of_n)+\".\")"
   ]
  },
  {
   "cell_type": "markdown",
   "metadata": {},
   "source": [
    "## 14. Digits Sum of a Number\n",
    "### Write a Python program to calculate the sum of the digits in an integer\n",
    "#### Program Console Sample 1:\n",
    "##### Enter a number: 15\n",
    "###### Sum of 1 + 5 is 6\n",
    "#### Program Console Sample 2:\n",
    "##### Enter a number: 1234\n",
    "###### Sum of 1 + 2 + 3 + 4 is 10"
   ]
  },
  {
   "cell_type": "code",
   "execution_count": 3,
   "metadata": {},
   "outputs": [
    {
     "name": "stdout",
     "output_type": "stream",
     "text": [
      "Enter a number15\n",
      "Sum of 1+5 is : 6\n"
     ]
    }
   ],
   "source": [
    "n = input(\"Enter a number\")\n",
    "num_list = list(str(n))\n",
    "\n",
    "repeat = 1 \n",
    "result= 0;\n",
    "finale_result = \"Sum of \"\n",
    "\n",
    "for position in range(len(num_list)):     # by index\n",
    "    \n",
    "    result = result + int(num_list[position])\n",
    "    num= str(num_list[position])\n",
    "    if repeat == 1:\n",
    "        finale_result += num\n",
    "        repeat = repeat + 1\n",
    "    else:\n",
    "        finale_result += \"+\" + num\n",
    "    \n",
    "    \n",
    "print(finale_result + \" is : \" + str(result))"
   ]
  },
  {
   "cell_type": "code",
   "execution_count": 3,
   "metadata": {},
   "outputs": [
    {
     "name": "stdout",
     "output_type": "stream",
     "text": [
      "Enter a number1234\n",
      "Sum of 1+2+3+4 is : 10\n"
     ]
    }
   ],
   "source": [
    "n = input(\"Enter a number\")\n",
    "num_list = list(str(n))\n",
    "\n",
    "repeat = 1 \n",
    "result= 0;\n",
    "finale_result = \"Sum of \"\n",
    "\n",
    "for position in range(len(num_list)):     # by index\n",
    "    \n",
    "    result = result + int(num_list[position])\n",
    "    num= str(num_list[position])\n",
    "    if repeat == 1:\n",
    "        finale_result += num\n",
    "        repeat = repeat + 1\n",
    "    else:\n",
    "        finale_result += \"+\" + num\n",
    "    \n",
    "    \n",
    "print(finale_result + \" is : \" + str(result))"
   ]
  },
  {
   "cell_type": "code",
   "execution_count": 4,
   "metadata": {},
   "outputs": [
    {
     "name": "stdout",
     "output_type": "stream",
     "text": [
      "Enter a number123456\n",
      "Sum of 1+2+3+4+5+6 is : 21\n"
     ]
    }
   ],
   "source": [
    "n = input(\"Enter a number\")\n",
    "num_list = list(str(n))\n",
    "\n",
    "repeat = 1 \n",
    "result= 0;\n",
    "finale_result = \"Sum of \"\n",
    "\n",
    "for position in range(len(num_list)):     # by index\n",
    "    \n",
    "    result = result + int(num_list[position])\n",
    "    num= str(num_list[position])\n",
    "    if repeat == 1:\n",
    "        finale_result += num\n",
    "        repeat = repeat + 1\n",
    "    else:\n",
    "        finale_result += \"+\" + num\n",
    "    \n",
    "    \n",
    "print(finale_result + \" is : \" + str(result))"
   ]
  },
  {
   "cell_type": "code",
   "execution_count": null,
   "metadata": {},
   "outputs": [],
   "source": []
  }
 ],
 "metadata": {
  "kernelspec": {
   "display_name": "Python 3",
   "language": "python",
   "name": "python3"
  },
  "language_info": {
   "codemirror_mode": {
    "name": "ipython",
    "version": 3
   },
   "file_extension": ".py",
   "mimetype": "text/x-python",
   "name": "python",
   "nbconvert_exporter": "python",
   "pygments_lexer": "ipython3",
   "version": "3.7.3"
  }
 },
 "nbformat": 4,
 "nbformat_minor": 2
}
